{
 "cells": [
  {
   "cell_type": "code",
   "execution_count": 23,
   "metadata": {},
   "outputs": [],
   "source": [
    "class BinaryNode:\n",
    "    value = None\n",
    "    left_child = None\n",
    "    right_child = None\n",
    "    \n",
    "    def __init__(self, value = None):\n",
    "        self.value = value\n",
    "        \n",
    "    def add_left(self, left_child):\n",
    "        self.left_child = left_child\n",
    "    \n",
    "    def add_right(self, right_child):\n",
    "        self.right_child = right_child\n",
    "    \n",
    "    def __str__(self):\n",
    "        return '{}: {} {}'.format(self.value, \n",
    "                                  self.left_child.value if self.left_child is not None else None, \n",
    "                                  self.right_child.value if self.right_child is not None else None)"
   ]
  },
  {
   "cell_type": "code",
   "execution_count": 26,
   "metadata": {},
   "outputs": [
    {
     "name": "stdout",
     "output_type": "stream",
     "text": [
      "Root: A B\n"
     ]
    }
   ],
   "source": [
    "root = BinaryNode('Root')\n",
    "a = BinaryNode('A')\n",
    "a.add_left(BinaryNode('C'))\n",
    "a.add_right(BinaryNode('D'))\n",
    "b = BinaryNode('B')\n",
    "e = BinaryNode('E')\n",
    "e.add_left(BinaryNode('F'))\n",
    "b.add_right(e)\n",
    "root.add_left(a)\n",
    "root.add_right(b)\n",
    "print(root)"
   ]
  },
  {
   "cell_type": "code",
   "execution_count": 20,
   "metadata": {},
   "outputs": [
    {
     "name": "stdout",
     "output_type": "stream",
     "text": [
      "None: None None\n"
     ]
    }
   ],
   "source": [
    "print(BinaryNode())"
   ]
  },
  {
   "cell_type": "code",
   "execution_count": 32,
   "metadata": {},
   "outputs": [],
   "source": [
    "def printBinaryTree(tree):\n",
    "    print(tree)\n",
    "    if tree.left_child is not None:\n",
    "        printBinaryTree(tree.left_child)\n",
    "    if tree.right_child is not None:\n",
    "        printBinaryTree(tree.right_child)"
   ]
  },
  {
   "cell_type": "code",
   "execution_count": 33,
   "metadata": {},
   "outputs": [
    {
     "name": "stdout",
     "output_type": "stream",
     "text": [
      "Root: A B\n",
      "A: C D\n",
      "C: None None\n",
      "D: None None\n",
      "B: None E\n",
      "E: F None\n",
      "F: None None\n"
     ]
    }
   ],
   "source": [
    "printBinaryTree(root)"
   ]
  },
  {
   "cell_type": "code",
   "execution_count": null,
   "metadata": {},
   "outputs": [],
   "source": []
  }
 ],
 "metadata": {
  "kernelspec": {
   "display_name": "Python 3",
   "language": "python",
   "name": "python3"
  },
  "language_info": {
   "codemirror_mode": {
    "name": "ipython",
    "version": 3
   },
   "file_extension": ".py",
   "mimetype": "text/x-python",
   "name": "python",
   "nbconvert_exporter": "python",
   "pygments_lexer": "ipython3",
   "version": "3.8.3"
  }
 },
 "nbformat": 4,
 "nbformat_minor": 4
}
