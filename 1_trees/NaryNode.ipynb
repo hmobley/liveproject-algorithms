{
 "cells": [
  {
   "cell_type": "code",
   "execution_count": 44,
   "metadata": {},
   "outputs": [],
   "source": [
    "class NaryNode:\n",
    "    value = None\n",
    "    children = []\n",
    "    \n",
    "    def __init__(self, value = None):\n",
    "        self.value = value\n",
    "        self.children = []\n",
    "        \n",
    "    def add_child(self, child):\n",
    "        self.children.append(child)\n",
    "        \n",
    "    def __str__(self):\n",
    "        return '{}: {}'.format(self.value, str.join(' ', [x.value for x in self.children])) "
   ]
  },
  {
   "cell_type": "code",
   "execution_count": 50,
   "metadata": {},
   "outputs": [],
   "source": [
    "root = NaryNode('Root')\n",
    "a = NaryNode('A')\n",
    "c = NaryNode('C')\n",
    "d = NaryNode('D')\n",
    "f = NaryNode('F')\n",
    "d.add_child(NaryNode('G'))\n",
    "a.add_child(d)\n",
    "a.add_child(NaryNode('E'))\n",
    "f.add_child(NaryNode('H'))\n",
    "f.add_child(NaryNode('I'))\n",
    "c.add_child(f)\n",
    "root.add_child(a)\n",
    "root.add_child(NaryNode('B'))\n",
    "root.add_child(c)"
   ]
  },
  {
   "cell_type": "code",
   "execution_count": 51,
   "metadata": {},
   "outputs": [
    {
     "name": "stdout",
     "output_type": "stream",
     "text": [
      "Root: A B C\n"
     ]
    }
   ],
   "source": [
    "print(root)"
   ]
  },
  {
   "cell_type": "code",
   "execution_count": 53,
   "metadata": {},
   "outputs": [],
   "source": [
    "def printNaryTree(tree):\n",
    "    print(tree)\n",
    "    for child in tree.children:\n",
    "        if child is None: continue\n",
    "        printNaryTree(child)"
   ]
  },
  {
   "cell_type": "code",
   "execution_count": 54,
   "metadata": {},
   "outputs": [
    {
     "name": "stdout",
     "output_type": "stream",
     "text": [
      "Root: A B C\n",
      "A: D E\n",
      "D: G\n",
      "G: \n",
      "E: \n",
      "B: \n",
      "C: F\n",
      "F: H I\n",
      "H: \n",
      "I: \n"
     ]
    }
   ],
   "source": [
    "printNaryTree(root)"
   ]
  },
  {
   "cell_type": "code",
   "execution_count": null,
   "metadata": {},
   "outputs": [],
   "source": []
  }
 ],
 "metadata": {
  "kernelspec": {
   "display_name": "Python 3",
   "language": "python",
   "name": "python3"
  },
  "language_info": {
   "codemirror_mode": {
    "name": "ipython",
    "version": 3
   },
   "file_extension": ".py",
   "mimetype": "text/x-python",
   "name": "python",
   "nbconvert_exporter": "python",
   "pygments_lexer": "ipython3",
   "version": "3.8.3"
  }
 },
 "nbformat": 4,
 "nbformat_minor": 4
}
